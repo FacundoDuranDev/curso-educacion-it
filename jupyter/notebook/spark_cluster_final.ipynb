{
  "cells": [
    {
      "cell_type": "markdown",
      "metadata": {},
      "source": [
        "# 🚀 Spark + Hive - Modo Clúster (Versiones Idénticas)\n",
        "\n",
        "**✅ Configuración perfecta:**\n",
        "- JupyterLab: Spark **3.5.3** \n",
        "- Clúster: Spark **3.5.3**\n",
        "- Misma imagen base: `hadoop-hive-spark-base`\n",
        "- Acceso completo a Hive\n"
      ]
    },
    {
      "cell_type": "code",
      "execution_count": null,
      "metadata": {},
      "outputs": [],
      "source": [
        "# 🔧 Configuración inicial\n",
        "import findspark\n",
        "findspark.init('/opt/spark')\n",
        "\n",
        "from pyspark.sql import SparkSession\n",
        "from pyspark.sql.functions import *\n",
        "import os\n",
        "\n",
        "print(\"✅ Librerías importadas\")\n",
        "print(f\"🏠 Spark Home: /opt/spark\")\n",
        "print(f\"🌐 Hostname: {os.environ.get('HOSTNAME', 'jupyterlab')}\")\n"
      ]
    },
    {
      "cell_type": "code",
      "execution_count": null,
      "metadata": {},
      "outputs": [],
      "source": [
        "# 🎯 Crear sesión Spark conectada al CLÚSTER\n",
        "spark = SparkSession.builder \\\n",
        "    .appName(\"EducacionIT-Cluster-Final\") \\\n",
        "    .master(\"spark://master:7077\") \\\n",
        "    .enableHiveSupport() \\\n",
        "    .config(\"spark.sql.adaptive.enabled\", \"true\") \\\n",
        "    .config(\"spark.sql.adaptive.coalescePartitions.enabled\", \"true\") \\\n",
        "    .config(\"spark.serializer\", \"org.apache.spark.serializer.KryoSerializer\") \\\n",
        "    .config(\"spark.sql.warehouse.dir\", \"/user/hive/warehouse\") \\\n",
        "    .config(\"spark.executor.memory\", \"1g\") \\\n",
        "    .config(\"spark.executor.cores\", \"1\") \\\n",
        "    .config(\"spark.dynamicAllocation.enabled\", \"false\") \\\n",
        "    .getOrCreate()\n",
        "\n",
        "spark.sparkContext.setLogLevel(\"WARN\")\n",
        "\n",
        "print(\"🎉 ¡Sesión Spark creada exitosamente!\")\n",
        "print(f\"📊 Spark UI: {spark.sparkContext.uiWebUrl}\")\n",
        "print(f\"🗄️ Catálogo: {spark.conf.get('spark.sql.catalogImplementation')}\")\n",
        "print(f\"🏷️ Aplicación: {spark.sparkContext.appName}\")\n",
        "print(f\"🔗 Master: {spark.sparkContext.master}\")\n",
        "print(\"🌟 Aplicación visible en: http://localhost:8080\")\n"
      ]
    },
    {
      "cell_type": "code",
      "execution_count": null,
      "metadata": {},
      "outputs": [],
      "source": [
        "# 🔥 PRUEBA FINAL: Consulta en el clúster\n",
        "print(\"🚀 Ejecutando consulta en el CLÚSTER...\")\n",
        "\n",
        "# Mostrar bases de datos\n",
        "databases = spark.sql(\"SHOW DATABASES\")\n",
        "print(\"📋 Bases de datos disponibles:\")\n",
        "databases.show()\n",
        "\n",
        "# Usar base de datos educacionit\n",
        "spark.sql(\"USE educacionit\")\n",
        "print(\"✅ Conectado a base de datos 'educacionit'\")\n",
        "\n",
        "# Mostrar tablas\n",
        "tables = spark.sql(\"SHOW TABLES\")\n",
        "print(\"📊 Tablas disponibles:\")\n",
        "tables.show()\n",
        "\n",
        "# Consulta simple para probar clúster\n",
        "test_query = spark.sql(\"SELECT 'Hola desde el clúster Spark 3.5.3!' as mensaje, current_timestamp() as timestamp\")\n",
        "print(\"💬 Mensaje del clúster:\")\n",
        "test_query.show(truncate=False)\n",
        "\n",
        "# Consulta con datos reales\n",
        "clientes_count = spark.sql(\"SELECT COUNT(*) as total_clientes FROM clientes\")\n",
        "print(\"👥 Total de clientes:\")\n",
        "clientes_count.show()\n",
        "\n",
        "print(\"🎉 ¡CLÚSTER FUNCIONANDO PERFECTAMENTE!\")\n"
      ]
    }
  ],
  "metadata": {
    "language_info": {
      "name": "python"
    }
  },
  "nbformat": 4,
  "nbformat_minor": 2
}
