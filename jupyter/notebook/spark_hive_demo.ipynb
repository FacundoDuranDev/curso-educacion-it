{
  "cells": [
    {
      "cell_type": "markdown",
      "metadata": {},
      "source": [
        "# 🚀 Demo: Spark + Hive - Lectura de Datos\n",
        "\n",
        "Este notebook demuestra cómo leer datos desde Hive usando Spark en Jupyter.\n"
      ]
    },
    {
      "cell_type": "code",
      "execution_count": null,
      "metadata": {},
      "outputs": [],
      "source": [
        "# Importar librerías necesarias\n",
        "from pyspark.sql import SparkSession\n",
        "from pyspark.sql.functions import *\n",
        "\n",
        "# Crear sesión de Spark con soporte para Hive\n",
        "spark = SparkSession.builder \\\n",
        "    .appName(\"JupyterSparkHive\") \\\n",
        "    .enableHiveSupport() \\\n",
        "    .getOrCreate()\n",
        "\n",
        "print(f\"✅ Spark iniciado - Versión: {spark.version}\")\n",
        "print(f\"📊 Master: {spark.sparkContext.master}\")\n"
      ]
    },
    {
      "cell_type": "code",
      "execution_count": null,
      "metadata": {},
      "outputs": [],
      "source": [
        "# Cambiar a la base de datos educacionit\n",
        "spark.sql(\"USE educacionit\")\n",
        "\n",
        "# Mostrar todas las tablas disponibles\n",
        "print(\"📋 Tablas disponibles en Hive:\")\n",
        "spark.sql(\"SHOW TABLES\").show()\n"
      ]
    },
    {
      "cell_type": "code",
      "execution_count": null,
      "metadata": {},
      "outputs": [],
      "source": [
        "# Leer tabla de clientes desde Hive\n",
        "clientes_df = spark.sql(\"SELECT * FROM clientes\")\n",
        "\n",
        "print(f\"📊 Total de clientes: {clientes_df.count()}\")\n",
        "print(\"\\n🔍 Primeros 5 registros:\")\n",
        "clientes_df.show(5, truncate=False)\n"
      ]
    },
    {
      "cell_type": "code",
      "execution_count": null,
      "metadata": {},
      "outputs": [],
      "source": [
        "# Análisis: Ventas por provincia\n",
        "ventas_provincia = spark.sql(\"\"\"\n",
        "    SELECT \n",
        "        c.provincia,\n",
        "        COUNT(*) as total_ventas,\n",
        "        SUM(v.precio * v.cantidad) as monto_total\n",
        "    FROM ventas v \n",
        "    JOIN clientes c ON v.id_cliente = c.id \n",
        "    WHERE c.provincia IS NOT NULL\n",
        "    GROUP BY c.provincia \n",
        "    ORDER BY total_ventas DESC\n",
        "    LIMIT 10\n",
        "\"\"\")\n",
        "\n",
        "print(\"📈 Top 10 provincias por ventas:\")\n",
        "ventas_provincia.show()\n"
      ]
    }
  ],
  "metadata": {
    "language_info": {
      "name": "python"
    }
  },
  "nbformat": 4,
  "nbformat_minor": 2
}
